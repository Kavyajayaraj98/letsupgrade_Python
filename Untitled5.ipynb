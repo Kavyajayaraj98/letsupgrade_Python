{
 "cells": [
  {
   "cell_type": "code",
   "execution_count": 6,
   "metadata": {},
   "outputs": [
    {
     "name": "stdout",
     "output_type": "stream",
     "text": [
      "Enter a altitude: 1000\n",
      "Safe land\n"
     ]
    }
   ],
   "source": [
    "altitude = input(\"Enter a altitude: \") \n",
    "if int(altitude)<=1000:\n",
    "    print(\"Safe land\")\n",
    "elif int(altitude)>1000 and int(altitude)<=5000:\n",
    "    print(\"Bring to 1000 ft\")\n",
    "else:\n",
    "    print(\"Turn around and attempt later\")"
   ]
  },
  {
   "cell_type": "code",
   "execution_count": 7,
   "metadata": {},
   "outputs": [
    {
     "name": "stdout",
     "output_type": "stream",
     "text": [
      "Enter a altitude: 3000\n",
      "Bring to 1000 ft\n"
     ]
    }
   ],
   "source": [
    "altitude = input(\"Enter a altitude: \")\n",
    "if int(altitude)<=1000:\n",
    "    print(\"Safe land\")\n",
    "elif int(altitude)>1000 and int(altitude)<=5000:\n",
    "    print(\"Bring to 1000 ft\")\n",
    "else:\n",
    "    print(\"Turn around and attempt later\")"
   ]
  },
  {
   "cell_type": "code",
   "execution_count": 8,
   "metadata": {},
   "outputs": [
    {
     "name": "stdout",
     "output_type": "stream",
     "text": [
      "Enter a altitude: 7500\n",
      "Turn around and attempt later\n"
     ]
    }
   ],
   "source": [
    "altitude = input(\"Enter a altitude: \")\n",
    "if int(altitude)<=1000:\n",
    "    print(\"Safe land\")\n",
    "elif int(altitude)>1000 and int(altitude)<=5000:\n",
    "    print(\"Bring to 1000 ft\")\n",
    "else:\n",
    "    print(\"Turn around and attempt later\")\n",
    "    "
   ]
  },
  {
   "cell_type": "code",
   "execution_count": null,
   "metadata": {},
   "outputs": [],
   "source": []
  }
 ],
 "metadata": {
  "kernelspec": {
   "display_name": "Python 3",
   "language": "python",
   "name": "python3"
  },
  "language_info": {
   "codemirror_mode": {
    "name": "ipython",
    "version": 3
   },
   "file_extension": ".py",
   "mimetype": "text/x-python",
   "name": "python",
   "nbconvert_exporter": "python",
   "pygments_lexer": "ipython3",
   "version": "3.8.3"
  }
 },
 "nbformat": 4,
 "nbformat_minor": 4
}
